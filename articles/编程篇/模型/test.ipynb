{
 "cells": [
  {
   "cell_type": "code",
   "execution_count": 2,
   "metadata": {},
   "outputs": [
    {
     "name": "stdout",
     "output_type": "stream",
     "text": [
      "tensor([[[ 1.,  2.,  3.,  4.,  5.],\n",
      "         [ 6.,  7.,  8.,  9., 10.]],\n",
      "\n",
      "        [[11., 12., 13., 14., 15.],\n",
      "         [16., 17., 18., 19., 20.]],\n",
      "\n",
      "        [[21., 22., 23., 24., 25.],\n",
      "         [26., 27., 28., 29., 30.]]])\n",
      "torch.Size([3, 2, 5])\n"
     ]
    }
   ],
   "source": [
    "import torch\n",
    "x = torch.linspace(1, 30, steps=30).view(3,2,5)\n",
    "print(x)\n",
    "print(x.shape)"
   ]
  },
  {
   "cell_type": "code",
   "execution_count": 2,
   "metadata": {},
   "outputs": [
    {
     "name": "stdout",
     "output_type": "stream",
     "text": [
      "tensor([[[ 1.,  6.],\n",
      "         [ 2.,  7.],\n",
      "         [ 3.,  8.],\n",
      "         [ 4.,  9.],\n",
      "         [ 5., 10.]],\n",
      "\n",
      "        [[11., 16.],\n",
      "         [12., 17.],\n",
      "         [13., 18.],\n",
      "         [14., 19.],\n",
      "         [15., 20.]],\n",
      "\n",
      "        [[21., 26.],\n",
      "         [22., 27.],\n",
      "         [23., 28.],\n",
      "         [24., 29.],\n",
      "         [25., 30.]]])\n"
     ]
    }
   ],
   "source": [
    "import torch\n",
    "x = torch.linspace(1, 30, steps=30).view(3, 2, 5)\n",
    "b = x.permute(0,2,1)\n",
    "print(b)\n",
    "print(b.shape)\n"
   ]
  }
 ],
 "metadata": {
  "kernelspec": {
   "display_name": "base",
   "language": "python",
   "name": "python3"
  },
  "language_info": {
   "codemirror_mode": {
    "name": "ipython",
    "version": 3
   },
   "file_extension": ".py",
   "mimetype": "text/x-python",
   "name": "python",
   "nbconvert_exporter": "python",
   "pygments_lexer": "ipython3",
   "version": "3.10.9"
  },
  "orig_nbformat": 4
 },
 "nbformat": 4,
 "nbformat_minor": 2
}
